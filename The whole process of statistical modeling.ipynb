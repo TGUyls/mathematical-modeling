{
 "cells": [
  {
   "cell_type": "markdown",
   "id": "a0fce36c",
   "metadata": {},
   "source": [
    "# 统计建模全过程 -- 以葡萄酒的评价问题为例\n"
   ]
  },
  {
   "cell_type": "markdown",
   "id": "57970a5a",
   "metadata": {},
   "source": [
    "## 题目\n"
   ]
  },
  {
   "cell_type": "markdown",
   "id": "3233a00d",
   "metadata": {},
   "source": []
  },
  {
   "cell_type": "markdown",
   "id": "55186fba",
   "metadata": {},
   "source": []
  },
  {
   "cell_type": "markdown",
   "id": "776bba7f",
   "metadata": {},
   "source": []
  },
  {
   "cell_type": "markdown",
   "id": "292ff5f2",
   "metadata": {},
   "source": []
  },
  {
   "cell_type": "markdown",
   "id": "d38e5439",
   "metadata": {},
   "source": []
  },
  {
   "cell_type": "markdown",
   "id": "d63e36fa",
   "metadata": {},
   "source": []
  }
 ],
 "metadata": {
  "kernelspec": {
   "display_name": "Python [conda env:root] *",
   "language": "python",
   "name": "conda-root-py"
  },
  "language_info": {
   "codemirror_mode": {
    "name": "ipython",
    "version": 3
   },
   "file_extension": ".py",
   "mimetype": "text/x-python",
   "name": "python",
   "nbconvert_exporter": "python",
   "pygments_lexer": "ipython3",
   "version": "3.9.7"
  },
  "toc": {
   "base_numbering": 1,
   "nav_menu": {},
   "number_sections": true,
   "sideBar": true,
   "skip_h1_title": false,
   "title_cell": "Table of Contents",
   "title_sidebar": "Contents",
   "toc_cell": false,
   "toc_position": {},
   "toc_section_display": true,
   "toc_window_display": false
  }
 },
 "nbformat": 4,
 "nbformat_minor": 5
}
