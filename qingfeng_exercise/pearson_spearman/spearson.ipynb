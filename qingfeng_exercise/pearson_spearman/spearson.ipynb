{
 "cells": [
  {
   "cell_type": "markdown",
   "id": "31c2eda9",
   "metadata": {},
   "source": [
    "# 相关系数作业"
   ]
  },
  {
   "cell_type": "code",
   "execution_count": 1,
   "id": "06940b64",
   "metadata": {},
   "outputs": [],
   "source": [
    "import pandas as pd\n",
    "data_girl = pd.read_excel('eighth_grade_girl.xlsx') # 读入女生数据\n",
    "data_boy = pd.read_excel('eighth_grade_boy.xls') # 读入男生数据"
   ]
  },
  {
   "cell_type": "code",
   "execution_count": 5,
   "id": "9271a498",
   "metadata": {},
   "outputs": [
    {
     "data": {
      "text/html": [
       "<div>\n",
       "<style scoped>\n",
       "    .dataframe tbody tr th:only-of-type {\n",
       "        vertical-align: middle;\n",
       "    }\n",
       "\n",
       "    .dataframe tbody tr th {\n",
       "        vertical-align: top;\n",
       "    }\n",
       "\n",
       "    .dataframe thead th {\n",
       "        text-align: right;\n",
       "    }\n",
       "</style>\n",
       "<table border=\"1\" class=\"dataframe\">\n",
       "  <thead>\n",
       "    <tr style=\"text-align: right;\">\n",
       "      <th></th>\n",
       "      <th>身高</th>\n",
       "      <th>体重</th>\n",
       "      <th>肺活量</th>\n",
       "      <th>50米跑</th>\n",
       "      <th>立定跳远</th>\n",
       "      <th>坐位体前屈</th>\n",
       "    </tr>\n",
       "  </thead>\n",
       "  <tbody>\n",
       "    <tr>\n",
       "      <th>0</th>\n",
       "      <td>163</td>\n",
       "      <td>63</td>\n",
       "      <td>2073</td>\n",
       "      <td>9.2</td>\n",
       "      <td>208</td>\n",
       "      <td>10.5</td>\n",
       "    </tr>\n",
       "    <tr>\n",
       "      <th>1</th>\n",
       "      <td>158</td>\n",
       "      <td>59</td>\n",
       "      <td>2949</td>\n",
       "      <td>7.5</td>\n",
       "      <td>210</td>\n",
       "      <td>9.8</td>\n",
       "    </tr>\n",
       "    <tr>\n",
       "      <th>2</th>\n",
       "      <td>157</td>\n",
       "      <td>70</td>\n",
       "      <td>2173</td>\n",
       "      <td>8.1</td>\n",
       "      <td>210</td>\n",
       "      <td>10.7</td>\n",
       "    </tr>\n",
       "    <tr>\n",
       "      <th>3</th>\n",
       "      <td>158</td>\n",
       "      <td>59</td>\n",
       "      <td>2949</td>\n",
       "      <td>7.5</td>\n",
       "      <td>210</td>\n",
       "      <td>9.8</td>\n",
       "    </tr>\n",
       "    <tr>\n",
       "      <th>4</th>\n",
       "      <td>157</td>\n",
       "      <td>70</td>\n",
       "      <td>2173</td>\n",
       "      <td>8.1</td>\n",
       "      <td>210</td>\n",
       "      <td>10.7</td>\n",
       "    </tr>\n",
       "    <tr>\n",
       "      <th>...</th>\n",
       "      <td>...</td>\n",
       "      <td>...</td>\n",
       "      <td>...</td>\n",
       "      <td>...</td>\n",
       "      <td>...</td>\n",
       "      <td>...</td>\n",
       "    </tr>\n",
       "    <tr>\n",
       "      <th>725</th>\n",
       "      <td>169</td>\n",
       "      <td>53</td>\n",
       "      <td>3012</td>\n",
       "      <td>8.0</td>\n",
       "      <td>168</td>\n",
       "      <td>6.5</td>\n",
       "    </tr>\n",
       "    <tr>\n",
       "      <th>726</th>\n",
       "      <td>163</td>\n",
       "      <td>60</td>\n",
       "      <td>3200</td>\n",
       "      <td>9.4</td>\n",
       "      <td>173</td>\n",
       "      <td>6.9</td>\n",
       "    </tr>\n",
       "    <tr>\n",
       "      <th>727</th>\n",
       "      <td>163</td>\n",
       "      <td>51</td>\n",
       "      <td>1980</td>\n",
       "      <td>8.5</td>\n",
       "      <td>187</td>\n",
       "      <td>9.6</td>\n",
       "    </tr>\n",
       "    <tr>\n",
       "      <th>728</th>\n",
       "      <td>150</td>\n",
       "      <td>53</td>\n",
       "      <td>1982</td>\n",
       "      <td>8.6</td>\n",
       "      <td>154</td>\n",
       "      <td>3.6</td>\n",
       "    </tr>\n",
       "    <tr>\n",
       "      <th>729</th>\n",
       "      <td>162</td>\n",
       "      <td>41</td>\n",
       "      <td>2001</td>\n",
       "      <td>9.0</td>\n",
       "      <td>148</td>\n",
       "      <td>4.0</td>\n",
       "    </tr>\n",
       "  </tbody>\n",
       "</table>\n",
       "<p>730 rows × 6 columns</p>\n",
       "</div>"
      ],
      "text/plain": [
       "      身高  体重   肺活量  50米跑  立定跳远  坐位体前屈\n",
       "0    163  63  2073   9.2   208   10.5\n",
       "1    158  59  2949   7.5   210    9.8\n",
       "2    157  70  2173   8.1   210   10.7\n",
       "3    158  59  2949   7.5   210    9.8\n",
       "4    157  70  2173   8.1   210   10.7\n",
       "..   ...  ..   ...   ...   ...    ...\n",
       "725  169  53  3012   8.0   168    6.5\n",
       "726  163  60  3200   9.4   173    6.9\n",
       "727  163  51  1980   8.5   187    9.6\n",
       "728  150  53  1982   8.6   154    3.6\n",
       "729  162  41  2001   9.0   148    4.0\n",
       "\n",
       "[730 rows x 6 columns]"
      ]
     },
     "execution_count": 5,
     "metadata": {},
     "output_type": "execute_result"
    }
   ],
   "source": [
    "data_boy"
   ]
  },
  {
   "cell_type": "markdown",
   "id": "c0a0464b",
   "metadata": {},
   "source": [
    "## 第一步：对数据进行正态性检验\n"
   ]
  },
  {
   "cell_type": "code",
   "execution_count": 50,
   "id": "8a798e6a",
   "metadata": {},
   "outputs": [
    {
     "name": "stdout",
     "output_type": "stream",
     "text": [
      "[False, False, False, False, False, False]\n",
      "[False, False, False, False, False, False]\n"
     ]
    }
   ],
   "source": [
    "import numpy as np\n",
    "import scipy.stats as stats\n",
    "import matplotlib.pyplot as plt\n",
    "\n",
    "boy_jb = []\n",
    "for i in range(6):\n",
    "    [statistic,p_value] = stats.jarque_bera(data_boy.iloc[:,i])\n",
    "    if p_value <= 0.05:\n",
    "        boy_jb.append(False)\n",
    "    elif p_value > 0.05:\n",
    "        boy_jb.append(True)  \n",
    "\n",
    "girl_jb = []\n",
    "for i in range(6):\n",
    "    [statistic,p_value] = stats.jarque_bera(data_girl.iloc[:,i])\n",
    "    if p_value <= 0.05:\n",
    "        girl_jb.append(False)\n",
    "    elif p_value > 0.05:\n",
    "        girl_jb.append(True)      \n",
    "print(boy_jb)\n",
    "print(girl_jb)"
   ]
  },
  {
   "cell_type": "markdown",
   "id": "98bb9da3",
   "metadata": {},
   "source": [
    "## 不服从正态分布，使用spearman"
   ]
  },
  {
   "cell_type": "code",
   "execution_count": 51,
   "id": "7a48b415",
   "metadata": {},
   "outputs": [
    {
     "data": {
      "text/html": [
       "<div>\n",
       "<style scoped>\n",
       "    .dataframe tbody tr th:only-of-type {\n",
       "        vertical-align: middle;\n",
       "    }\n",
       "\n",
       "    .dataframe tbody tr th {\n",
       "        vertical-align: top;\n",
       "    }\n",
       "\n",
       "    .dataframe thead th {\n",
       "        text-align: right;\n",
       "    }\n",
       "</style>\n",
       "<table border=\"1\" class=\"dataframe\">\n",
       "  <thead>\n",
       "    <tr style=\"text-align: right;\">\n",
       "      <th></th>\n",
       "      <th>身高</th>\n",
       "      <th>体重</th>\n",
       "      <th>肺活量</th>\n",
       "      <th>50米跑</th>\n",
       "      <th>立定跳远</th>\n",
       "      <th>坐位体前屈</th>\n",
       "    </tr>\n",
       "  </thead>\n",
       "  <tbody>\n",
       "    <tr>\n",
       "      <th>身高</th>\n",
       "      <td>1.000000</td>\n",
       "      <td>0.034897</td>\n",
       "      <td>0.110435</td>\n",
       "      <td>0.021502</td>\n",
       "      <td>-0.066544</td>\n",
       "      <td>-0.107546</td>\n",
       "    </tr>\n",
       "    <tr>\n",
       "      <th>体重</th>\n",
       "      <td>0.034897</td>\n",
       "      <td>1.000000</td>\n",
       "      <td>0.060312</td>\n",
       "      <td>0.019496</td>\n",
       "      <td>0.119964</td>\n",
       "      <td>0.060343</td>\n",
       "    </tr>\n",
       "    <tr>\n",
       "      <th>肺活量</th>\n",
       "      <td>0.110435</td>\n",
       "      <td>0.060312</td>\n",
       "      <td>1.000000</td>\n",
       "      <td>-0.027296</td>\n",
       "      <td>-0.045852</td>\n",
       "      <td>-0.034276</td>\n",
       "    </tr>\n",
       "    <tr>\n",
       "      <th>50米跑</th>\n",
       "      <td>0.021502</td>\n",
       "      <td>0.019496</td>\n",
       "      <td>-0.027296</td>\n",
       "      <td>1.000000</td>\n",
       "      <td>0.030127</td>\n",
       "      <td>-0.047279</td>\n",
       "    </tr>\n",
       "    <tr>\n",
       "      <th>立定跳远</th>\n",
       "      <td>-0.066544</td>\n",
       "      <td>0.119964</td>\n",
       "      <td>-0.045852</td>\n",
       "      <td>0.030127</td>\n",
       "      <td>1.000000</td>\n",
       "      <td>0.005488</td>\n",
       "    </tr>\n",
       "    <tr>\n",
       "      <th>坐位体前屈</th>\n",
       "      <td>-0.107546</td>\n",
       "      <td>0.060343</td>\n",
       "      <td>-0.034276</td>\n",
       "      <td>-0.047279</td>\n",
       "      <td>0.005488</td>\n",
       "      <td>1.000000</td>\n",
       "    </tr>\n",
       "  </tbody>\n",
       "</table>\n",
       "</div>"
      ],
      "text/plain": [
       "             身高        体重       肺活量      50米跑      立定跳远     坐位体前屈\n",
       "身高     1.000000  0.034897  0.110435  0.021502 -0.066544 -0.107546\n",
       "体重     0.034897  1.000000  0.060312  0.019496  0.119964  0.060343\n",
       "肺活量    0.110435  0.060312  1.000000 -0.027296 -0.045852 -0.034276\n",
       "50米跑   0.021502  0.019496 -0.027296  1.000000  0.030127 -0.047279\n",
       "立定跳远  -0.066544  0.119964 -0.045852  0.030127  1.000000  0.005488\n",
       "坐位体前屈 -0.107546  0.060343 -0.034276 -0.047279  0.005488  1.000000"
      ]
     },
     "execution_count": 51,
     "metadata": {},
     "output_type": "execute_result"
    }
   ],
   "source": [
    "data_boy.corr('spearman')"
   ]
  },
  {
   "cell_type": "code",
   "execution_count": 54,
   "id": "0120ba99",
   "metadata": {},
   "outputs": [
    {
     "data": {
      "text/plain": [
       "(array([0.5, 1.5, 2.5, 3.5, 4.5, 5.5]),\n",
       " [Text(0, 0.5, '身高'),\n",
       "  Text(0, 1.5, '体重'),\n",
       "  Text(0, 2.5, '肺活量'),\n",
       "  Text(0, 3.5, '50米跑'),\n",
       "  Text(0, 4.5, '立定跳远'),\n",
       "  Text(0, 5.5, '坐位体前屈')])"
      ]
     },
     "execution_count": 54,
     "metadata": {},
     "output_type": "execute_result"
    },
    {
     "data": {
      "image/png": "[encoded data removed]",
      "text/plain": [
       "<Figure size 1440x1152 with 2 Axes>"
      ]
     },
     "metadata": {
      "needs_background": "light"
     },
     "output_type": "display_data"
    }
   ],
   "source": [
    "import seaborn as sns\n",
    "import matplotlib.pyplot as plt\n",
    "corr = data_boy.corr('spearman')\n",
    "plt.rcParams['font.sans-serif']=['SimHei']\n",
    "plt.rcParams['axes.unicode_minus'] =False #减号unicode编码\n",
    "ax = plt.subplots(figsize=(20, 16))#调整画布大小\n",
    "ax = sns.heatmap(corr, vmax=.8, square=True, annot=True)#画热力图   annot=True 表示显示系数\n",
    "# 设置刻度字体大小\n",
    "plt.xticks(fontsize=13)\n",
    "plt.yticks(fontsize=13)"
   ]
  },
  {
   "cell_type": "code",
   "execution_count": 53,
   "id": "daff428a",
   "metadata": {},
   "outputs": [
    {
     "data": {
      "text/html": [
       "<div>\n",
       "<style scoped>\n",
       "    .dataframe tbody tr th:only-of-type {\n",
       "        vertical-align: middle;\n",
       "    }\n",
       "\n",
       "    .dataframe tbody tr th {\n",
       "        vertical-align: top;\n",
       "    }\n",
       "\n",
       "    .dataframe thead th {\n",
       "        text-align: right;\n",
       "    }\n",
       "</style>\n",
       "<table border=\"1\" class=\"dataframe\">\n",
       "  <thead>\n",
       "    <tr style=\"text-align: right;\">\n",
       "      <th></th>\n",
       "      <th>身高</th>\n",
       "      <th>体重</th>\n",
       "      <th>肺活量</th>\n",
       "      <th>50米跑</th>\n",
       "      <th>立定跳远</th>\n",
       "      <th>坐位体前屈</th>\n",
       "    </tr>\n",
       "  </thead>\n",
       "  <tbody>\n",
       "    <tr>\n",
       "      <th>身高</th>\n",
       "      <td>1.000000</td>\n",
       "      <td>0.030134</td>\n",
       "      <td>-0.243004</td>\n",
       "      <td>-0.199045</td>\n",
       "      <td>0.062436</td>\n",
       "      <td>0.109855</td>\n",
       "    </tr>\n",
       "    <tr>\n",
       "      <th>体重</th>\n",
       "      <td>0.030134</td>\n",
       "      <td>1.000000</td>\n",
       "      <td>0.130468</td>\n",
       "      <td>0.089845</td>\n",
       "      <td>0.021638</td>\n",
       "      <td>-0.048798</td>\n",
       "    </tr>\n",
       "    <tr>\n",
       "      <th>肺活量</th>\n",
       "      <td>-0.243004</td>\n",
       "      <td>0.130468</td>\n",
       "      <td>1.000000</td>\n",
       "      <td>0.262607</td>\n",
       "      <td>0.021946</td>\n",
       "      <td>-0.080075</td>\n",
       "    </tr>\n",
       "    <tr>\n",
       "      <th>50米跑</th>\n",
       "      <td>-0.199045</td>\n",
       "      <td>0.089845</td>\n",
       "      <td>0.262607</td>\n",
       "      <td>1.000000</td>\n",
       "      <td>-0.090988</td>\n",
       "      <td>-0.002918</td>\n",
       "    </tr>\n",
       "    <tr>\n",
       "      <th>立定跳远</th>\n",
       "      <td>0.062436</td>\n",
       "      <td>0.021638</td>\n",
       "      <td>0.021946</td>\n",
       "      <td>-0.090988</td>\n",
       "      <td>1.000000</td>\n",
       "      <td>-0.039892</td>\n",
       "    </tr>\n",
       "    <tr>\n",
       "      <th>坐位体前屈</th>\n",
       "      <td>0.109855</td>\n",
       "      <td>-0.048798</td>\n",
       "      <td>-0.080075</td>\n",
       "      <td>-0.002918</td>\n",
       "      <td>-0.039892</td>\n",
       "      <td>1.000000</td>\n",
       "    </tr>\n",
       "  </tbody>\n",
       "</table>\n",
       "</div>"
      ],
      "text/plain": [
       "             身高        体重       肺活量      50米跑      立定跳远     坐位体前屈\n",
       "身高     1.000000  0.030134 -0.243004 -0.199045  0.062436  0.109855\n",
       "体重     0.030134  1.000000  0.130468  0.089845  0.021638 -0.048798\n",
       "肺活量   -0.243004  0.130468  1.000000  0.262607  0.021946 -0.080075\n",
       "50米跑  -0.199045  0.089845  0.262607  1.000000 -0.090988 -0.002918\n",
       "立定跳远   0.062436  0.021638  0.021946 -0.090988  1.000000 -0.039892\n",
       "坐位体前屈  0.109855 -0.048798 -0.080075 -0.002918 -0.039892  1.000000"
      ]
     },
     "execution_count": 53,
     "metadata": {},
     "output_type": "execute_result"
    }
   ],
   "source": [
    "data_girl.corr('spearman')"
   ]
  },
  {
   "cell_type": "code",
   "execution_count": 55,
   "id": "97c53aa9",
   "metadata": {},
   "outputs": [
    {
     "data": {
      "text/plain": [
       "(array([0.5, 1.5, 2.5, 3.5, 4.5, 5.5]),\n",
       " [Text(0, 0.5, '身高'),\n",
       "  Text(0, 1.5, '体重'),\n",
       "  Text(0, 2.5, '肺活量'),\n",
       "  Text(0, 3.5, '50米跑'),\n",
       "  Text(0, 4.5, '立定跳远'),\n",
       "  Text(0, 5.5, '坐位体前屈')])"
      ]
     },
     "execution_count": 55,
     "metadata": {},
     "output_type": "execute_result"
    },
    {
     "data": {
      "image/png": "[encoded data removed]",
      "text/plain": [
       "<Figure size 1440x1152 with 2 Axes>"
      ]
     },
     "metadata": {
      "needs_background": "light"
     },
     "output_type": "display_data"
    }
   ],
   "source": [
    "import seaborn as sns\n",
    "import matplotlib.pyplot as plt\n",
    "corr = data_girl.corr('spearman')\n",
    "plt.rcParams['font.sans-serif']=['SimHei']\n",
    "plt.rcParams['axes.unicode_minus'] =False #减号unicode编码\n",
    "ax = plt.subplots(figsize=(20, 16))#调整画布大小\n",
    "ax = sns.heatmap(corr, vmax=.8, square=True, annot=True)#画热力图   annot=True 表示显示系数\n",
    "# 设置刻度字体大小\n",
    "plt.xticks(fontsize=13)\n",
    "plt.yticks(fontsize=13)"
   ]
  },
  {
   "cell_type": "code",
   "execution_count": null,
   "id": "e53565ee",
   "metadata": {},
   "outputs": [],
   "source": []
  }
 ],
 "metadata": {
  "kernelspec": {
   "display_name": "Python [conda env:root] *",
   "language": "python",
   "name": "conda-root-py"
  },
  "language_info": {
   "codemirror_mode": {
    "name": "ipython",
    "version": 3
   },
   "file_extension": ".py",
   "mimetype": "text/x-python",
   "name": "python",
   "nbconvert_exporter": "python",
   "pygments_lexer": "ipython3",
   "version": "3.9.7"
  },
  "toc": {
   "base_numbering": 1,
   "nav_menu": {},
   "number_sections": true,
   "sideBar": true,
   "skip_h1_title": false,
   "title_cell": "Table of Contents",
   "title_sidebar": "Contents",
   "toc_cell": false,
   "toc_position": {},
   "toc_section_display": true,
   "toc_window_display": false
  }
 },
 "nbformat": 4,
 "nbformat_minor": 5
}
